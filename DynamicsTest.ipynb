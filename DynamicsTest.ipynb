{
 "cells": [
  {
   "cell_type": "code",
   "execution_count": 3,
   "id": "f8e421a0-cbc4-4ab7-8f1d-caa68ac369d7",
   "metadata": {},
   "outputs": [],
   "source": [
    "import os\n",
    "import sys\n",
    "import math\n",
    "from liblibra_core import * \n",
    "from libra_py import *\n",
    "import numpy as np\n",
    "import cProfile, pstats, io\n",
    "import matplotlib.pyplot as plt\n",
    "from scipy.special import gamma\n",
    "from NumpyMIW import * #Calls below\n",
    "import py3Dmol"
   ]
  },
  {
   "cell_type": "markdown",
   "id": "a0a05d6e-be98-4dbf-9738-d16e789cb8d0",
   "metadata": {},
   "source": [
    "#### Explicit function calls from NumpyMIW:\n",
    "- MIW_Forces(X, params) : Used to compute MIW forces\n",
    "- Write_Frame_To_XYZ(X, 1, filename) : Used in dyanmics for writing out trajectory to .xyz file.\n",
    "- Populate1DUniform( number of worlds, spacing between the worlds)\n",
    "\n",
    "\n",
    "### Set up the functions to compute potential/forces for a partcle in an D-dimensional harmonic potential.\n",
    "\n",
    "$X =  [ [x_{00}, x_{01}, ...,  x_{0D}], [x_{10}, x_{11}, ...,  x_{1D}], ..., [x_{N0}, x_{N1}, ..., x_{ND}]]$"
   ]
  },
  {
   "cell_type": "code",
   "execution_count": 4,
   "id": "97fcdd53-ce53-4b3f-b2b6-923d10eefa43",
   "metadata": {},
   "outputs": [],
   "source": [
    "def Harmonic_Potential(X, xo, K):\n",
    "    res = 0 \n",
    "    for i in range(len(X)):\n",
    "        for k in range(len(X[0])):\n",
    "            res +=  .5 * K * (X[i][k] - xo)**2\n",
    "    return(res)\n",
    "\n",
    "# These two functions just compute harmonic potential/forces for something centered at xo along all DOFs\n",
    "def Harmonic_Forces(X, xo, K):\n",
    "    F = np.zeros(X.shape)\n",
    "    for i in range(len(X)):\n",
    "        for k in range(len(X[0])):\n",
    "            F[i][k] = - K * ( X[i][k] - xo ) \n",
    "    return(F)\n",
    "\n",
    "# Uses verlet for updates with both MIW and MM forces.\n",
    "def VerletDynamics(X, V, params, method = 0, filename = 0):\n",
    "    dt = params[\"dt\"]\n",
    "    steps = params[\"steps\"]\n",
    "    \n",
    "    if method == 0:\n",
    "        K = params[\"K\"]\n",
    "        xo = params[\"xo\"]\n",
    "\n",
    "        F, U = MIW_Forces(X, params)\n",
    "        \n",
    "        #Testing if sign is wrong\n",
    "        #F = -F\n",
    "        \n",
    "        F += Harmonic_Forces(X, xo, K)\n",
    "        for i in range(steps):\n",
    "            X = X + V * dt + .5 * np.divide(F, M) * dt * dt\n",
    "            V = V + .5 * np.divide(F, M) * dt\n",
    "            F, U = MIW_Forces(X, params)\n",
    "            \n",
    "            #Testing if sign is wrong\n",
    "            #F = -F\n",
    "            \n",
    "            F += Harmonic_Forces(X, xo, K)\n",
    "            V = V + .5 * np.divide(F, M) * dt\n",
    "\n",
    "            if type(filename) != int:\n",
    "                Write_Frame_To_XYZ(X, 1, filename)\n",
    "                \n",
    "# Very slow minimization algorithm, which is basically just the same as above with velocity reset to 0 each step.\n",
    "# Swapping over to scipy optimization currently.\n",
    "def MDMin(X, V, params, method = 0, filename = 0, conv_thr=1e-5):\n",
    "    dt = params[\"dt\"]\n",
    "    steps = params[\"steps\"]\n",
    "    Flist = []\n",
    "    if method == 0:\n",
    "        K = params[\"K\"]\n",
    "        xo = params[\"xo\"]\n",
    "\n",
    "        F, U = MIW_Forces(X, params)\n",
    "        F += Harmonic_Forces(X, xo, K)\n",
    "        \n",
    "        for i in range(steps):            \n",
    "            X = X + .5 * np.divide(F, 1) * dt * dt\n",
    "            F, U = MIW_Forces(X, params)            \n",
    "            F += Harmonic_Forces(X, xo, K)\n",
    "            Flist.append(max(abs(F[0])))\n",
    "\n",
    "            if type(filename) != int:\n",
    "                Write_Frame_To_XYZ(X, 1, filename)\n",
    "                \n",
    "            if max(abs(F[0])) < conv_thr or i == list(range(steps))[-1]:\n",
    "                if max(abs(F[0])) < conv_thr:\n",
    "                    print(\"Force convergence reached, max force component < %f\" % conv_thr)\n",
    "                elif i == list(range(steps))[-1]:\n",
    "                    print(\"Maximum number of steps reached, max force component not lower than %f\" % conv_thr)\n",
    "                finalPotential = U\n",
    "                finalPotential += Harmonic_Potential(X, xo, K)\n",
    "                \n",
    "                return(Flist, finalPotential)\n",
    "                \n",
    "    return(Flist, finalPotential)"
   ]
  },
  {
   "cell_type": "markdown",
   "id": "f1f6c09b-7203-4292-9991-b49e3640ad35",
   "metadata": {},
   "source": [
    "### Relevant Constants\n",
    "$0.0367493 Ha = 1 eV$\n",
    "\n",
    "$1.88973 Bohr = 1 A$\n",
    "\n",
    "$1 eV/A = 0.0367493/1.88973 Ha/Bohr = 0.019446852195816332 Ha/Bohr$\n",
    "\n",
    "\n",
    "\n",
    "#### Below sets up a 1D system of N worlds\n",
    "- The system is then minimized (with a slow procedure which I'll swap to use a scipy opt algorithm)\n",
    "- The max force at each iteration, and the final potential are the output.\n",
    "- The next codeblock below plots the forces to get an idea of how long before all force components are ~1e-4/1e-5."
   ]
  },
  {
   "cell_type": "code",
   "execution_count": 24,
   "id": "77f4b877-da28-43c2-937b-5125ee7b8e83",
   "metadata": {},
   "outputs": [
    {
     "name": "stdout",
     "output_type": "stream",
     "text": [
      "Maximum number of steps reached, max force component not lower than 0.000010\n"
     ]
    }
   ],
   "source": [
    "N = 10\n",
    "spacing = .3\n",
    "b = .5\n",
    "D = 1\n",
    "X = Populate1DUniform(N, spacing)\n",
    "\n",
    "V = np.zeros(X.shape)\n",
    "\n",
    "M = np.zeros(X.shape)\n",
    "m_p = 1836.0 # Mass of proton in au\n",
    "M += m_p\n",
    "\n",
    "eV_A2HaBohr = 0.019446852195816332\n",
    "\n",
    "K1 = 1*eV_A2HaBohr\n",
    "\n",
    "steps = 5000\n",
    "\n",
    "params = {\n",
    "    \"J\":1,\n",
    "    \"D\":D,\n",
    "    \"b\":b,\n",
    "    \"ktype\":\"exponential\",\n",
    "    \"M\":M,\n",
    "    \"K\":K1,\n",
    "    \"xo\":0,\n",
    "    \"dt\":.1,\n",
    "    \"steps\":steps\n",
    "}\n",
    "# file = \"MDMin.xyz\"\n",
    "# os.system(\"rm %s\" % file)\n",
    "Flist, potential = MDMin(X, V, params)\n"
   ]
  },
  {
   "cell_type": "markdown",
   "id": "6f02945a-0bc1-42eb-8e53-527a5be6c44f",
   "metadata": {},
   "source": [
    "\n",
    "# Equations being used to compare MIW ground state energy to HO Ground state energy.\n",
    "\n",
    "----\n",
    "\n",
    "## MIW:\n",
    "\n",
    "$E_{tot} = U_{MW}(X) + U^{kernel}_{corr} + \\Sigma_{worlds} \\ V_{classical}$ Eq 15 Sturniolo\n",
    "---------------------\n",
    "\n",
    "----\n",
    "\n",
    "## GS H.O.:\n",
    "\n",
    "$E_o = \\frac{1}{2}\\hbar \\omega$ with $\\omega = \\sqrt{\\frac{k}{m}}$\n",
    "\n",
    "Taking K = 1eV/A = $0.0194...$ Ha/Bohr\n",
    "\n",
    "m for a Hydrogen ~ 1836 in a.u., we should have:\n",
    "\n",
    "$\\omega = \\sqrt{\\frac{k}{m}} = \\sqrt{\\frac{0.019446852195816332}{1836}} = 0.0032545302928249434$\n",
    "\n",
    "So the ground state energy for a single HO in a.u. should be the factor below:\n",
    "\n",
    "$E_o = .0016272651464124717 * N$ \n",
    "-----\n",
    "\n",
    "----\n",
    "\n",
    "## Error formulation\n",
    "\n",
    "### From Fig 2 in Sturniolo, error is given as:\n",
    "\n",
    "\n",
    "log$_{10}((E_{tot}-E_o)/(E_o))$\n",
    "----\n",
    "\n",
    "$E_{tot} \\to$ MIW Energy\n",
    "\n",
    "$E_o \\to$ H.O. Energy. This is multiplied by N because MIW Energy grows with number of worlds.\n",
    "\n",
    "----\n",
    "\n",
    "### $U_{corr}$\n",
    "\n",
    "The correction (Eq 14 Sturniolo) is \n",
    "$U_{corr}^{exp} = \\frac{\\hbar^2}{8m} \\frac{D}{b^2}$, which I believe is per world, hence the factor of N where the correction is added in line 12 below.\n",
    "\n",
    "I am not totally sure if the factor of N should be there, however I've tried both currently, and there is a larger source of error compared with the paper elsewhere, as this has little effect.\n",
    "\n",
    "\n",
    "### Directly below takes the forces computed above, and plots max force vs iteration to get a feel for how many iterations are needed.\n",
    "- I would add more things like average force for convergence, or change in MIW potential, but I am going to just switch to a better optimizer altogether."
   ]
  },
  {
   "cell_type": "code",
   "execution_count": 25,
   "id": "a2aef2f6-2bdf-4490-a83e-7d49bd905b3e",
   "metadata": {},
   "outputs": [
    {
     "name": "stdout",
     "output_type": "stream",
     "text": [
      "Final force 0.008251516188117002\n",
      "Potential after U_corr 0.33565823346354473\n",
      "Log error = 1.2928569843201103\n",
      "Potential 0.335658     |     Eo 0.016273\n"
     ]
    },
    {
     "data": {
      "image/png": "[encoded data removed]",
      "text/plain": [
       "<Figure size 432x288 with 1 Axes>"
      ]
     },
     "metadata": {
      "needs_background": "light"
     },
     "output_type": "display_data"
    }
   ],
   "source": [
    "plt.figure(1)\n",
    "plt.title(\"Max Force Component vs Iteration\")\n",
    "plt.ylabel(\"Max Force Component\")\n",
    "plt.xlabel(\"Optimization Iteration\")\n",
    "plt.plot(np.arange(len(Flist)), Flist)\n",
    "\n",
    "Eo = .0016272651464124717\n",
    "\n",
    "print(\"Final force\", Flist[-1])\n",
    "\n",
    "\n",
    "potential += ((N*D)/(8*M[0][0] * b**2 ))\n",
    "print(\"Potential after U_corr\", potential)\n",
    "\n",
    "print(\"Log error =\", np.log10( abs( potential - (Eo*N) )  / (Eo*N) ) )\n",
    "\n",
    "print(\"Potential %f     |     Eo %f\" % (potential, Eo*N) )"
   ]
  },
  {
   "cell_type": "markdown",
   "id": "a1a96fb7-a071-42b4-9490-6f17f965fc71",
   "metadata": {},
   "source": [
    "## Relative strength of MIW/Harmonic potentials\n",
    "\n",
    "- This is just to give a rough idea in the N=2 case of at what scales the respective forces are most relevant.\n",
    "- I was mainly using this to try some different values for k."
   ]
  },
  {
   "cell_type": "code",
   "execution_count": 18,
   "id": "01523215-9148-494a-a95f-70425428cfac",
   "metadata": {},
   "outputs": [
    {
     "data": {
      "image/png": "[encoded data removed]",
      "text/plain": [
       "<Figure size 432x288 with 1 Axes>"
      ]
     },
     "metadata": {
      "needs_background": "light"
     },
     "output_type": "display_data"
    }
   ],
   "source": [
    "x1 = 0\n",
    "start = -4\n",
    "steps = 500\n",
    "x2 = np.linspace(-start, start, steps)\n",
    "\n",
    "b = .5\n",
    "J = 1\n",
    "D = 1\n",
    "N = 2\n",
    "X = np.zeros( ( N , J*D ) )\n",
    "M = np.zeros( X.shape ) \n",
    "M += 1\n",
    "params = {\n",
    "    \"J\":J,\n",
    "    \"D\":D,\n",
    "    \"b\":b,\n",
    "    \"ktype\":\"gaussian\",\n",
    "    \"M\":M,\n",
    "}\n",
    "\n",
    "\n",
    "X = np.zeros( ( N , J*D ) )\n",
    "\n",
    "X[0][0] = x1\n",
    "GaussianPotentials = np.zeros( (len(x2), 1) )\n",
    "ExponentialPotentials = np.zeros( (len(x2), 1) )\n",
    "HarmonicPotentials = np.zeros( (len(x2), 1) )\n",
    "                              \n",
    "for i in range(len(x2)):\n",
    "    X[1][0] = x2[i]\n",
    "                              \n",
    "    params[\"ktype\"]=\"gaussian\"\n",
    "    F, U = MIW_Forces(X, params)\n",
    "    GaussianPotentials[i] = U\n",
    "                              \n",
    "    params[\"ktype\"]=\"exponential\"\n",
    "    F, U = MIW_Forces(X, params)\n",
    "    ExponentialPotentials[i] = U\n",
    "    \n",
    "    HarmonicPotentials[i] = Harmonic_Potential(X, 0, .05)\n",
    "                            \n",
    "\n",
    "plt.figure(2)\n",
    "plt.title(\"MIW Potentials\")\n",
    "plt.xlabel(\"x2-x1 for MIW | x for harmonic\")\n",
    "plt.ylabel(\"Potential (a.u.?)\")\n",
    "plt.plot(x2, GaussianPotentials, color = 'red', label = 'Gaussian')\n",
    "plt.plot(x2, ExponentialPotentials, color ='blue', label = 'Exponential')\n",
    "plt.plot(x2, HarmonicPotentials, color = 'black', label = 'Harmonic')\n",
    "plt.legend();\n"
   ]
  },
  {
   "cell_type": "markdown",
   "id": "96661a35-b3c7-45b7-9916-8c43f9798fe4",
   "metadata": {},
   "source": [
    "## Dynamics in the harmonic potential.\n",
    "- This also helps to visualize the trajectories\n",
    "- Can just swap 'gaussian' and 'exponential' in params."
   ]
  },
  {
   "cell_type": "code",
   "execution_count": 5,
   "id": "91765c83-b799-4b8e-9af7-2b608fd3f454",
   "metadata": {},
   "outputs": [],
   "source": [
    "N = 2\n",
    "spacing = 1\n",
    "X = Populate1DUniform(N, spacing)\n",
    "\n",
    "V = np.zeros(X.shape)\n",
    "M = np.zeros(X.shape)\n",
    "M += 1\n",
    "\n",
    "params = {\n",
    "    \"J\":1,\n",
    "    \"D\":1,\n",
    "    \"b\":.5,\n",
    "    \"ktype\":\"gaussian\",\n",
    "    \"M\":M,\n",
    "    \"K\":1,\n",
    "    \"xo\":0,\n",
    "    \"dt\":.1,\n",
    "    \"steps\":100\n",
    "}\n",
    "\n",
    "file = \"HarmonicTraj.xyz\"\n",
    "os.system(\"rm %s\" % file)\n",
    "VerletDynamics(X, V, params, filename = file)"
   ]
  },
  {
   "cell_type": "markdown",
   "id": "82ad0c69-c4a0-45c8-98c1-73b37c567ecf",
   "metadata": {},
   "source": [
    "## MDMin in the harmonic potential.\n",
    "- Aids in seeing the issue associated with the gaussian kernel, where the particles tend to clump up in optimization.\n",
    "- Exponential kernel looks good, but I will add something to take X->P(X) for comparison with $|\\psi_o|^2$ for H.O. Can use this to quantity"
   ]
  },
  {
   "cell_type": "code",
   "execution_count": 22,
   "id": "9d3bcd19-abc2-4685-b770-80905e63661a",
   "metadata": {},
   "outputs": [
    {
     "name": "stdout",
     "output_type": "stream",
     "text": [
      "Force convergence reached, max force component < 0.000010\n"
     ]
    }
   ],
   "source": [
    "N = 10\n",
    "spacing = .5\n",
    "X = Populate1DUniform(N, spacing)\n",
    "\n",
    "V = np.zeros(X.shape)\n",
    "M = np.zeros(X.shape)\n",
    "M += 1\n",
    "\n",
    "params = {\n",
    "    \"J\":1,\n",
    "    \"D\":1,\n",
    "    \"b\":.5,\n",
    "    \"ktype\":\"gaussian\",\n",
    "    \"M\":M,\n",
    "    \"K\":1,\n",
    "    \"xo\":0,\n",
    "    \"dt\":.1,\n",
    "    \"steps\":500\n",
    "}\n",
    "file = \"MDMin.xyz\"\n",
    "os.system(\"rm %s\" % file);\n",
    "MDMin(X, V, params, filename = file);"
   ]
  },
  {
   "cell_type": "markdown",
   "id": "7858b077-5ec7-4d47-ad99-5d460f314ae5",
   "metadata": {},
   "source": [
    "### The attempt at recreating Figure 2\n",
    "- Computes the Log error for N = 2 -> 80 every 2 worlds.\n",
    "- Should follow the Solid Green Triangles in the Top Left Panel of Fig 2 in Sturniolo\n",
    "- This is slow because the code is far from optimized, so the same plot is redone in the cell below. \n",
    "- - Just did this so that the block directly below could be modified to compare with N=2->N=78 plot."
   ]
  },
  {
   "cell_type": "code",
   "execution_count": 22,
   "id": "339ce2c7-3dbe-48e8-949c-44bb02f62633",
   "metadata": {},
   "outputs": [
    {
     "name": "stdout",
     "output_type": "stream",
     "text": [
      "Maximum number of steps reached, max force component not lower than 0.000010\n",
      "Finished N = 2\n",
      "Maximum number of steps reached, max force component not lower than 0.000010\n",
      "Finished N = 4\n",
      "Maximum number of steps reached, max force component not lower than 0.000010\n",
      "Finished N = 6\n",
      "Maximum number of steps reached, max force component not lower than 0.000010\n",
      "Finished N = 8\n",
      "Maximum number of steps reached, max force component not lower than 0.000010\n",
      "Finished N = 10\n",
      "Maximum number of steps reached, max force component not lower than 0.000010\n",
      "Finished N = 12\n",
      "Maximum number of steps reached, max force component not lower than 0.000010\n",
      "Finished N = 14\n",
      "Maximum number of steps reached, max force component not lower than 0.000010\n",
      "Finished N = 16\n",
      "Maximum number of steps reached, max force component not lower than 0.000010\n",
      "Finished N = 18\n",
      "Maximum number of steps reached, max force component not lower than 0.000010\n",
      "Finished N = 20\n",
      "Maximum number of steps reached, max force component not lower than 0.000010\n",
      "Finished N = 22\n",
      "Maximum number of steps reached, max force component not lower than 0.000010\n",
      "Finished N = 24\n",
      "Force convergence reached, max force component < 0.000010\n",
      "Finished N = 26\n",
      "Force convergence reached, max force component < 0.000010\n",
      "Finished N = 28\n",
      "Maximum number of steps reached, max force component not lower than 0.000010\n",
      "Finished N = 30\n",
      "Maximum number of steps reached, max force component not lower than 0.000010\n",
      "Finished N = 32\n",
      "Maximum number of steps reached, max force component not lower than 0.000010\n",
      "Finished N = 34\n",
      "Force convergence reached, max force component < 0.000010\n",
      "Finished N = 36\n",
      "Maximum number of steps reached, max force component not lower than 0.000010\n",
      "Finished N = 38\n",
      "Maximum number of steps reached, max force component not lower than 0.000010\n",
      "Finished N = 40\n",
      "Maximum number of steps reached, max force component not lower than 0.000010\n",
      "Finished N = 42\n",
      "Maximum number of steps reached, max force component not lower than 0.000010\n",
      "Finished N = 44\n",
      "Maximum number of steps reached, max force component not lower than 0.000010\n",
      "Finished N = 46\n",
      "Maximum number of steps reached, max force component not lower than 0.000010\n",
      "Finished N = 48\n",
      "Force convergence reached, max force component < 0.000010\n",
      "Finished N = 50\n",
      "Maximum number of steps reached, max force component not lower than 0.000010\n",
      "Finished N = 52\n",
      "Maximum number of steps reached, max force component not lower than 0.000010\n",
      "Finished N = 54\n",
      "Force convergence reached, max force component < 0.000010\n",
      "Finished N = 56\n",
      "Maximum number of steps reached, max force component not lower than 0.000010\n",
      "Finished N = 58\n",
      "Maximum number of steps reached, max force component not lower than 0.000010\n",
      "Finished N = 60\n",
      "Maximum number of steps reached, max force component not lower than 0.000010\n",
      "Finished N = 62\n",
      "Maximum number of steps reached, max force component not lower than 0.000010\n",
      "Finished N = 64\n",
      "Maximum number of steps reached, max force component not lower than 0.000010\n",
      "Finished N = 66\n",
      "Maximum number of steps reached, max force component not lower than 0.000010\n",
      "Finished N = 68\n",
      "Maximum number of steps reached, max force component not lower than 0.000010\n",
      "Finished N = 70\n",
      "Maximum number of steps reached, max force component not lower than 0.000010\n",
      "Finished N = 72\n",
      "Maximum number of steps reached, max force component not lower than 0.000010\n",
      "Finished N = 74\n",
      "Maximum number of steps reached, max force component not lower than 0.000010\n",
      "Finished N = 76\n",
      "Force convergence reached, max force component < 0.000010\n",
      "Finished N = 78\n"
     ]
    },
    {
     "data": {
      "text/plain": [
       "[<matplotlib.lines.Line2D at 0x7fe423c8fa90>]"
      ]
     },
     "execution_count": 22,
     "metadata": {},
     "output_type": "execute_result"
    },
    {
     "data": {
      "image/png": "[encoded data removed]",
      "text/plain": [
       "<Figure size 432x288 with 1 Axes>"
      ]
     },
     "metadata": {
      "needs_background": "light"
     },
     "output_type": "display_data"
    }
   ],
   "source": [
    "N = 10\n",
    "spacing = .3\n",
    "b = .5\n",
    "D = 1\n",
    "\n",
    "M = np.zeros(X.shape)\n",
    "m_p = 1836.0 # Mass of proton in au\n",
    "M += m_p\n",
    "\n",
    "eV_A2HaBohr = 0.019446852195816332\n",
    "K1 = 1*eV_A2HaBohr\n",
    "steps = 2000\n",
    "Eo = .0016272651464124717\n",
    "\n",
    "params = {\n",
    "    \"J\":1,\n",
    "    \"D\":D,\n",
    "    \"b\":b,\n",
    "    \"ktype\":\"exponential\",\n",
    "    \"M\":M,\n",
    "    \"K\":K1,\n",
    "    \"xo\":0,\n",
    "    \"dt\":.1,\n",
    "    \"steps\":steps\n",
    "}\n",
    "\n",
    "LogErr = []\n",
    "Nworlds = []\n",
    "Nmax = 80\n",
    "\n",
    "# Loops through and computes the errors for N = 2 - > N = 80 worlds.\n",
    "for i in range(1,Nmax):\n",
    "    if i % 2 == 0:\n",
    "        N = i\n",
    "        X = Populate1DUniform(N, spacing)\n",
    "        V = np.zeros(X.shape)\n",
    "\n",
    "        M = np.zeros(X.shape)\n",
    "        m_p = 1836.0 # Mass of proton in au\n",
    "        M += m_p\n",
    "        \n",
    "        params[\"M\"] = M\n",
    "\n",
    "        Flist, potential = MDMin(X, V, params)\n",
    "        err = np.log10( abs( potential - (Eo*N) )  / (Eo*N) )\n",
    "        potential += ((N*D)/(8*M[0][0] * b**2 ))\n",
    "        print(\"Finished N =\", N)\n",
    "        Nworlds.append(N)\n",
    "        LogErr.append(err)\n",
    "\n",
    "\n",
    "\n",
    "plt.plot(Nworlds, LogErr)\n",
    "        \n",
    "# print(\"Log error for N =\", N,  np.log10( abs( potential - (Eo*N) )  / (Eo*N) ) )\n",
    "# print(\"Potential %f     |     Eo %f\" % (potential, Eo*N) )"
   ]
  },
  {
   "cell_type": "code",
   "execution_count": 23,
   "id": "b6f818fb-999d-4f11-8878-90931d774f1c",
   "metadata": {},
   "outputs": [
    {
     "data": {
      "text/plain": [
       "Text(0, 0.5, 'log$_{10}[( E - Eo) / Eo]$')"
      ]
     },
     "execution_count": 23,
     "metadata": {},
     "output_type": "execute_result"
    },
    {
     "data": {
      "image/png": "[encoded data removed]",
      "text/plain": [
       "<Figure size 432x288 with 1 Axes>"
      ]
     },
     "metadata": {
      "needs_background": "light"
     },
     "output_type": "display_data"
    }
   ],
   "source": [
    "plt.plot(Nworlds, LogErr)\n",
    "plt.title(\"Harm1\")\n",
    "plt.xlabel(\"N\")\n",
    "plt.ylabel(\"log$_{10}[( E - Eo) / Eo]$\")"
   ]
  }
 ],
 "metadata": {
  "kernelspec": {
   "display_name": "Python 3",
   "language": "python",
   "name": "python3"
  },
  "language_info": {
   "codemirror_mode": {
    "name": "ipython",
    "version": 3
   },
   "file_extension": ".py",
   "mimetype": "text/x-python",
   "name": "python",
   "nbconvert_exporter": "python",
   "pygments_lexer": "ipython3",
   "version": "3.7.10"
  }
 },
 "nbformat": 4,
 "nbformat_minor": 5
}
