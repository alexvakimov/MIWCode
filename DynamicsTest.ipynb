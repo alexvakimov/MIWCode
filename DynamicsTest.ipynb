{
 "cells": [
  {
   "cell_type": "code",
   "execution_count": 4,
   "id": "f8e421a0-cbc4-4ab7-8f1d-caa68ac369d7",
   "metadata": {},
   "outputs": [],
   "source": [
    "import os\n",
    "import sys\n",
    "import math\n",
    "#from liblibra_core import * \n",
    "#from libra_py import *\n",
    "import numpy as np\n",
    "import cProfile, pstats, io\n",
    "import matplotlib.pyplot as plt\n",
    "from scipy.special import gamma\n",
    "from NumpyMIW import * #Calls below\n",
    "import py3Dmol"
   ]
  },
  {
   "cell_type": "markdown",
   "id": "a0a05d6e-be98-4dbf-9738-d16e789cb8d0",
   "metadata": {},
   "source": [
    "#### Explicit function calls from NumpyMIW:\n",
    "- MIW_Forces(X, params) : Used to compute MIW forces\n",
    "- Write_Frame_To_XYZ(X, 1, filename) : Used in dyanmics for writing out trajectory to .xyz file.\n",
    "\n",
    "\n",
    "### Set up the functions to compute potential/forces for a partcle in an D-dimensional harmonic potential.\n",
    "\n",
    "$X =  [ [x_{00}, x_{01}, ...,  x_{0D}], [x_{10}, x_{11}, ...,  x_{1D}], ..., [x_{N0}, x_{N1}, ..., x_{ND}]]$"
   ]
  },
  {
   "cell_type": "code",
   "execution_count": 2,
   "id": "97fcdd53-ce53-4b3f-b2b6-923d10eefa43",
   "metadata": {},
   "outputs": [],
   "source": [
    "def Harmonic_Potential(X, xo, K):\n",
    "    res = 0 \n",
    "    for i in range(len(X)):\n",
    "        for k in range(len(X[0])):\n",
    "            res +=  .5 * K * (X[i][k] - xo)**2\n",
    "    return(res)\n",
    "\n",
    "#As it is written, xo is the same in all dimensions, i.e. most set up for potential centered at origin\n",
    "def Harmonic_Forces(X, xo, K):\n",
    "    F = np.zeros(X.shape)\n",
    "    for i in range(len(X)):\n",
    "        for k in range(len(X[0])):\n",
    "            F[i][k] = - K * ( X[i][k] - xo ) \n",
    "    return(F)\n",
    "\n",
    "def VerletDynamics(X, V, params, method = 0, filename = 0):\n",
    "    dt = params[\"dt\"]\n",
    "    steps = params[\"steps\"]\n",
    "    \n",
    "    if method == 0:\n",
    "        K = params[\"K\"]\n",
    "        xo = params[\"xo\"]\n",
    "\n",
    "        F, U = MIW_Forces(X, params)\n",
    "        F += Harmonic_Forces(X, xo, K)\n",
    "        for i in range(steps):\n",
    "            X = X + V * dt + .5 * np.divide(F, M) * dt * dt\n",
    "            V = V + .5 * np.divide(F, M) * dt\n",
    "            F, U = MIW_Forces(X, params)\n",
    "            F += Harmonic_Forces(X, xo, K)\n",
    "            V = V + .5 * np.divide(F, M) * dt\n",
    "\n",
    "            if type(filename) != int:\n",
    "                Write_Frame_To_XYZ(X, 1, filename)\n",
    "                \n",
    "def MDMin(X, V, params, method = 0, filename = 0):\n",
    "    dt = params[\"dt\"]\n",
    "    steps = params[\"steps\"]\n",
    "    \n",
    "    if method == 0:\n",
    "        K = params[\"K\"]\n",
    "        xo = params[\"xo\"]\n",
    "\n",
    "        F, U = MIW_Forces(X, params)\n",
    "        F += Harmonic_Forces(X, xo, K)\n",
    "        for i in range(steps):\n",
    "            X = X + V * dt + .5 * np.divide(F, M) * dt * dt\n",
    "            V = .5 * np.divide(F, M) * dt\n",
    "            F, U = MIW_Forces(X, params)\n",
    "            F += Harmonic_Forces(X, xo, K)\n",
    "            V = .5 * np.divide(F, M) * dt\n",
    "\n",
    "            if type(filename) != int:\n",
    "                Write_Frame_To_XYZ(X, 1, filename)"
   ]
  },
  {
   "cell_type": "markdown",
   "id": "7b0a04d0-c87e-4456-b8c0-71b66909883d",
   "metadata": {},
   "source": [
    "### Set up to view the scale of interactions between particles ($\\sim x_2-x_1$), and between the particle and harmonic potential ($\\sim x$).\n",
    "\n",
    "This is just to give a very rough idea as to the scales at which we should expect to see interworld forces and interaction with the harmonic potential being on par with one another. Really this is just helpful for tuning of the K parameter."
   ]
  },
  {
   "cell_type": "code",
   "execution_count": 15,
   "id": "01523215-9148-494a-a95f-70425428cfac",
   "metadata": {},
   "outputs": [
    {
     "data": {
      "image/png": "[encoded data removed]",
      "text/plain": [
       "<Figure size 432x288 with 1 Axes>"
      ]
     },
     "metadata": {
      "needs_background": "light"
     },
     "output_type": "display_data"
    }
   ],
   "source": [
    "x1 = 0\n",
    "start = -4\n",
    "steps = 500\n",
    "x2 = np.linspace(-start, start, steps)\n",
    "\n",
    "b = .5\n",
    "J = 1\n",
    "D = 1\n",
    "N = 2\n",
    "X = np.zeros( ( N , J*D ) )\n",
    "M = np.zeros( X.shape ) \n",
    "M += 1\n",
    "params = {\n",
    "    \"J\":J,\n",
    "    \"D\":D,\n",
    "    \"b\":b,\n",
    "    \"ktype\":\"gaussian\",\n",
    "    \"M\":M,\n",
    "}\n",
    "\n",
    "\n",
    "X = np.zeros( ( N , J*D ) )\n",
    "\n",
    "X[0][0] = x1\n",
    "GaussianPotentials = np.zeros( (len(x2), 1) )\n",
    "ExponentialPotentials = np.zeros( (len(x2), 1) )\n",
    "HarmonicPotentials = np.zeros( (len(x2), 1) )\n",
    "                              \n",
    "for i in range(len(x2)):\n",
    "    X[1][0] = x2[i]\n",
    "                              \n",
    "    params[\"ktype\"]=\"gaussian\"\n",
    "    F, U = MIW_Forces(X, params)\n",
    "    GaussianPotentials[i] = U\n",
    "                              \n",
    "    params[\"ktype\"]=\"exponential\"\n",
    "    F, U = MIW_Forces(X, params)\n",
    "    ExponentialPotentials[i] = U\n",
    "    \n",
    "    HarmonicPotentials[i] = Harmonic_Potential(X, 0, .05)\n",
    "                            \n",
    "\n",
    "plt.figure(1)\n",
    "plt.title(\"MIW Potentials\")\n",
    "plt.xlabel(\"x2-x1 for MIW | x for harmonic\")\n",
    "plt.ylabel(\"Potential (a.u.?)\")\n",
    "plt.plot(x2, GaussianPotentials, color = 'red', label = 'Gaussian')\n",
    "plt.plot(x2, ExponentialPotentials, color ='blue', label = 'Exponential')\n",
    "plt.plot(x2, HarmonicPotentials, color = 'black', label = 'Harmonic')\n",
    "plt.legend();\n"
   ]
  },
  {
   "cell_type": "markdown",
   "id": "96661a35-b3c7-45b7-9916-8c43f9798fe4",
   "metadata": {},
   "source": [
    "### Now we can run some dynamics for a few particles in the harmonic potential."
   ]
  },
  {
   "cell_type": "code",
   "execution_count": 67,
   "id": "ae58dae2-a599-4d94-bd2c-7692cf28b561",
   "metadata": {},
   "outputs": [],
   "source": [
    "N = 10\n",
    "spacing = .5\n",
    "X = Populate1DUniform(N, spacing)\n",
    "\n",
    "V = np.zeros(X.shape)\n",
    "M = np.zeros(X.shape)\n",
    "M += 1\n",
    "\n",
    "params = {\n",
    "    \"J\":1,\n",
    "    \"D\":1,\n",
    "    \"b\":.5,\n",
    "    \"ktype\":\"gaussian\",\n",
    "    \"M\":M,\n",
    "    \"K\":1,\n",
    "    \"xo\":0,\n",
    "    \"dt\":.1,\n",
    "    \"steps\":100\n",
    "}\n",
    "\n",
    "file = \"HarmonicTraj.xyz\"\n",
    "os.system(\"rm %s\" % file)\n",
    "VerletDynamics(X, V, params, filename = file)\n",
    "\n"
   ]
  },
  {
   "cell_type": "code",
   "execution_count": 3,
   "id": "9d3bcd19-abc2-4685-b770-80905e63661a",
   "metadata": {},
   "outputs": [],
   "source": [
    "N = 10\n",
    "spacing = .5\n",
    "X = Populate1DUniform(N, spacing)\n",
    "\n",
    "V = np.zeros(X.shape)\n",
    "M = np.zeros(X.shape)\n",
    "M += 1\n",
    "\n",
    "params = {\n",
    "    \"J\":1,\n",
    "    \"D\":1,\n",
    "    \"b\":.5,\n",
    "    \"ktype\":\"gaussian\",\n",
    "    \"M\":M,\n",
    "    \"K\":1,\n",
    "    \"xo\":0,\n",
    "    \"dt\":.1,\n",
    "    \"steps\":500\n",
    "}\n",
    "file = \"MDMin.xyz\"\n",
    "os.system(\"rm %s\" % file)\n",
    "MDMin(X, V, params, filename = file)"
   ]
  },
  {
   "cell_type": "code",
   "execution_count": 4,
   "id": "c49a456a-2a87-466e-bb35-fda2d6470712",
   "metadata": {},
   "outputs": [],
   "source": []
  },
  {
   "cell_type": "code",
   "execution_count": null,
   "id": "423e277f-724c-4734-9af6-e85c5eb16eff",
   "metadata": {},
   "outputs": [],
   "source": []
  },
  {
   "cell_type": "code",
   "execution_count": null,
   "id": "3224a8d1-6d1e-4690-a8cf-f2b98d5f1f40",
   "metadata": {},
   "outputs": [],
   "source": []
  }
 ],
 "metadata": {
  "kernelspec": {
   "display_name": "Python 3",
   "language": "python",
   "name": "python3"
  },
  "language_info": {
   "codemirror_mode": {
    "name": "ipython",
    "version": 3
   },
   "file_extension": ".py",
   "mimetype": "text/x-python",
   "name": "python",
   "nbconvert_exporter": "python",
   "pygments_lexer": "ipython3",
   "version": "3.7.10"
  }
 },
 "nbformat": 4,
 "nbformat_minor": 5
}
